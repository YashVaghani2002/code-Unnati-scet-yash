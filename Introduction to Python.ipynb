{
 "cells": [
  {
   "cell_type": "markdown",
   "id": "6c6e6ac0",
   "metadata": {},
   "source": [
    "# Hello There"
   ]
  },
  {
   "cell_type": "code",
   "execution_count": null,
   "id": "42bcdadc",
   "metadata": {},
   "outputs": [],
   "source": [
    "150+150"
   ]
  },
  {
   "cell_type": "code",
   "execution_count": null,
   "id": "addf381e",
   "metadata": {
    "scrolled": true
   },
   "outputs": [],
   "source": [
    "1+52"
   ]
  },
  {
   "cell_type": "code",
   "execution_count": null,
   "id": "2d6bfe27",
   "metadata": {},
   "outputs": [],
   "source": [
    "6*15"
   ]
  },
  {
   "cell_type": "code",
   "execution_count": null,
   "id": "69484cb6",
   "metadata": {},
   "outputs": [],
   "source": [
    "150-20\n"
   ]
  },
  {
   "cell_type": "code",
   "execution_count": null,
   "id": "71d0951d",
   "metadata": {
    "scrolled": true
   },
   "outputs": [],
   "source": [
    "2**5"
   ]
  },
  {
   "cell_type": "code",
   "execution_count": null,
   "id": "b58e135d",
   "metadata": {},
   "outputs": [],
   "source": [
    "150/5"
   ]
  },
  {
   "cell_type": "code",
   "execution_count": null,
   "id": "4bd82728",
   "metadata": {},
   "outputs": [],
   "source": [
    "22/7"
   ]
  },
  {
   "cell_type": "code",
   "execution_count": null,
   "id": "e40a1702",
   "metadata": {},
   "outputs": [],
   "source": [
    "(22+2)*2"
   ]
  },
  {
   "cell_type": "code",
   "execution_count": null,
   "id": "084c4bdd",
   "metadata": {},
   "outputs": [],
   "source": [
    "{2+(5*10)}"
   ]
  },
  {
   "cell_type": "code",
   "execution_count": null,
   "id": "e8841133",
   "metadata": {},
   "outputs": [],
   "source": [
    "2+5/10-5*2"
   ]
  },
  {
   "cell_type": "code",
   "execution_count": null,
   "id": "db5fa353",
   "metadata": {},
   "outputs": [],
   "source": [
    "10e-2"
   ]
  },
  {
   "cell_type": "code",
   "execution_count": null,
   "id": "18536557",
   "metadata": {},
   "outputs": [],
   "source": [
    "print(\"Hello World\")"
   ]
  },
  {
   "cell_type": "markdown",
   "id": "381eafad",
   "metadata": {},
   "source": [
    "# Variable"
   ]
  },
  {
   "cell_type": "code",
   "execution_count": 2,
   "id": "02d3fbd7",
   "metadata": {},
   "outputs": [],
   "source": [
    "a=150\n",
    "b=2.2222222\n",
    "c=True\n",
    "d=\"Yash\"\n",
    "e='a'\n",
    "f={1,2,2}\n",
    "g=20"
   ]
  },
  {
   "cell_type": "code",
   "execution_count": null,
   "id": "831a7083",
   "metadata": {},
   "outputs": [],
   "source": [
    "a"
   ]
  },
  {
   "cell_type": "code",
   "execution_count": null,
   "id": "ab27fe04",
   "metadata": {},
   "outputs": [],
   "source": [
    "b"
   ]
  },
  {
   "cell_type": "code",
   "execution_count": null,
   "id": "12a73cec",
   "metadata": {},
   "outputs": [],
   "source": [
    "type(a)"
   ]
  },
  {
   "cell_type": "code",
   "execution_count": null,
   "id": "52e1dcfd",
   "metadata": {},
   "outputs": [],
   "source": [
    "type(b)"
   ]
  },
  {
   "cell_type": "code",
   "execution_count": null,
   "id": "54e2356f",
   "metadata": {},
   "outputs": [],
   "source": [
    "type(c)"
   ]
  },
  {
   "cell_type": "code",
   "execution_count": 5,
   "id": "f1c46acd",
   "metadata": {
    "scrolled": true
   },
   "outputs": [
    {
     "data": {
      "text/plain": [
       "str"
      ]
     },
     "execution_count": 5,
     "metadata": {},
     "output_type": "execute_result"
    }
   ],
   "source": [
    "type(d)"
   ]
  },
  {
   "cell_type": "code",
   "execution_count": 4,
   "id": "5f106728",
   "metadata": {},
   "outputs": [
    {
     "data": {
      "text/plain": [
       "str"
      ]
     },
     "execution_count": 4,
     "metadata": {},
     "output_type": "execute_result"
    }
   ],
   "source": [
    "type(e)"
   ]
  },
  {
   "cell_type": "code",
   "execution_count": 3,
   "id": "963bd708",
   "metadata": {},
   "outputs": [
    {
     "data": {
      "text/plain": [
       "set"
      ]
     },
     "execution_count": 3,
     "metadata": {},
     "output_type": "execute_result"
    }
   ],
   "source": [
    "type(f)"
   ]
  },
  {
   "cell_type": "markdown",
   "id": "9c40c79d",
   "metadata": {},
   "source": [
    "# Math Opration"
   ]
  },
  {
   "cell_type": "code",
   "execution_count": null,
   "id": "79579b6c",
   "metadata": {},
   "outputs": [],
   "source": [
    "a/b"
   ]
  },
  {
   "cell_type": "code",
   "execution_count": null,
   "id": "5001e68f",
   "metadata": {},
   "outputs": [],
   "source": [
    "g/a"
   ]
  },
  {
   "cell_type": "code",
   "execution_count": null,
   "id": "c96680b7",
   "metadata": {},
   "outputs": [],
   "source": [
    "b**g"
   ]
  },
  {
   "cell_type": "markdown",
   "id": "6348396f",
   "metadata": {},
   "source": [
    "# Input From User"
   ]
  },
  {
   "cell_type": "code",
   "execution_count": 2,
   "id": "c4ea2409",
   "metadata": {},
   "outputs": [
    {
     "name": "stdout",
     "output_type": "stream",
     "text": [
      "Enter the integer value X: 2\n",
      "Enter the integer value Y: 5\n"
     ]
    },
    {
     "data": {
      "text/plain": [
       "32"
      ]
     },
     "execution_count": 2,
     "metadata": {},
     "output_type": "execute_result"
    }
   ],
   "source": [
    "x=int(input(\"Enter the integer value X: \"))\n",
    "y=int(input(\"Enter the integer value Y: \"))\n",
    "z=x**y\n",
    "z"
   ]
  },
  {
   "cell_type": "markdown",
   "id": "55a76b71",
   "metadata": {},
   "source": [
    "# String Concatenation"
   ]
  },
  {
   "cell_type": "code",
   "execution_count": 6,
   "id": "802f39ef",
   "metadata": {},
   "outputs": [],
   "source": [
    "str1=\"Yash\"\n",
    "str2=\"Vaghani\"\n",
    "str3 = str1 + \" \" + str2"
   ]
  },
  {
   "cell_type": "code",
   "execution_count": 7,
   "id": "e9e945a6",
   "metadata": {},
   "outputs": [
    {
     "data": {
      "text/plain": [
       "'Yash Vaghani'"
      ]
     },
     "execution_count": 7,
     "metadata": {},
     "output_type": "execute_result"
    }
   ],
   "source": [
    "str3"
   ]
  },
  {
   "cell_type": "markdown",
   "id": "d6b88a03",
   "metadata": {},
   "source": [
    "# String Slicing"
   ]
  },
  {
   "cell_type": "code",
   "execution_count": 45,
   "id": "60b03809",
   "metadata": {},
   "outputs": [],
   "source": [
    "str1=\"Yash Vaghani\"\n",
    "str2=str1[3]\n",
    "str3=str1[0:7]\n",
    "str4=str1[:7]\n",
    "str5=str1[-7:]"
   ]
  },
  {
   "cell_type": "code",
   "execution_count": 46,
   "id": "97b01c48",
   "metadata": {},
   "outputs": [
    {
     "data": {
      "text/plain": [
       "'h'"
      ]
     },
     "execution_count": 46,
     "metadata": {},
     "output_type": "execute_result"
    }
   ],
   "source": [
    "str2"
   ]
  },
  {
   "cell_type": "code",
   "execution_count": 47,
   "id": "2dfffa27",
   "metadata": {},
   "outputs": [
    {
     "data": {
      "text/plain": [
       "'Yash Va'"
      ]
     },
     "execution_count": 47,
     "metadata": {},
     "output_type": "execute_result"
    }
   ],
   "source": [
    "str3"
   ]
  },
  {
   "cell_type": "code",
   "execution_count": 48,
   "id": "40cbe71e",
   "metadata": {},
   "outputs": [
    {
     "data": {
      "text/plain": [
       "'Yash Va'"
      ]
     },
     "execution_count": 48,
     "metadata": {},
     "output_type": "execute_result"
    }
   ],
   "source": [
    "str4"
   ]
  },
  {
   "cell_type": "code",
   "execution_count": 49,
   "id": "7d92f455",
   "metadata": {},
   "outputs": [
    {
     "data": {
      "text/plain": [
       "'Vaghani'"
      ]
     },
     "execution_count": 49,
     "metadata": {},
     "output_type": "execute_result"
    }
   ],
   "source": [
    "str5"
   ]
  },
  {
   "cell_type": "markdown",
   "id": "40407ebb",
   "metadata": {},
   "source": [
    "# Tuples"
   ]
  },
  {
   "cell_type": "code",
   "execution_count": 70,
   "id": "e16d4ccc",
   "metadata": {},
   "outputs": [],
   "source": [
    "tup1=(\"Scet\",50,15.5,'yash')\n",
    "tup2=(\"SASSIT\",40,10.2,'Nikunj')\n",
    "tup3=tup1+tup2"
   ]
  },
  {
   "cell_type": "code",
   "execution_count": 71,
   "id": "389fd5ba",
   "metadata": {},
   "outputs": [
    {
     "data": {
      "text/plain": [
       "tuple"
      ]
     },
     "execution_count": 71,
     "metadata": {},
     "output_type": "execute_result"
    }
   ],
   "source": [
    "type(tup1)"
   ]
  },
  {
   "cell_type": "code",
   "execution_count": 72,
   "id": "a7d4f99d",
   "metadata": {},
   "outputs": [
    {
     "data": {
      "text/plain": [
       "15.5"
      ]
     },
     "execution_count": 72,
     "metadata": {},
     "output_type": "execute_result"
    }
   ],
   "source": [
    "tup1[2]"
   ]
  },
  {
   "cell_type": "code",
   "execution_count": 73,
   "id": "1b341190",
   "metadata": {},
   "outputs": [
    {
     "data": {
      "text/plain": [
       "('Scet', 50, 15.5, 'yash')"
      ]
     },
     "execution_count": 73,
     "metadata": {},
     "output_type": "execute_result"
    }
   ],
   "source": [
    "tup1[0:]"
   ]
  },
  {
   "cell_type": "code",
   "execution_count": 74,
   "id": "49b2162a",
   "metadata": {},
   "outputs": [
    {
     "data": {
      "text/plain": [
       "('Scet', 50, 15.5, 'yash', 'SASSIT', 40, 10.2, 'Nikunj')"
      ]
     },
     "execution_count": 74,
     "metadata": {},
     "output_type": "execute_result"
    }
   ],
   "source": [
    "tup3"
   ]
  },
  {
   "cell_type": "code",
   "execution_count": 75,
   "id": "30645bfe",
   "metadata": {},
   "outputs": [
    {
     "data": {
      "text/plain": [
       "8"
      ]
     },
     "execution_count": 75,
     "metadata": {},
     "output_type": "execute_result"
    }
   ],
   "source": [
    "len(tup3)"
   ]
  },
  {
   "cell_type": "markdown",
   "id": "5840d96e",
   "metadata": {},
   "source": [
    "# List"
   ]
  },
  {
   "cell_type": "code",
   "execution_count": 76,
   "id": "c452029b",
   "metadata": {},
   "outputs": [],
   "source": [
    "lst1=[\"Scet\",50,15.5,'yash']"
   ]
  },
  {
   "cell_type": "code",
   "execution_count": 77,
   "id": "b067b16e",
   "metadata": {},
   "outputs": [
    {
     "data": {
      "text/plain": [
       "list"
      ]
     },
     "execution_count": 77,
     "metadata": {},
     "output_type": "execute_result"
    }
   ],
   "source": [
    "type(lst1)"
   ]
  },
  {
   "cell_type": "code",
   "execution_count": 79,
   "id": "902f8c98",
   "metadata": {},
   "outputs": [],
   "source": [
    "lst1.remove(50)"
   ]
  },
  {
   "cell_type": "code",
   "execution_count": 80,
   "id": "b26d7b73",
   "metadata": {},
   "outputs": [
    {
     "data": {
      "text/plain": [
       "['Scet', 15.5, 'yash']"
      ]
     },
     "execution_count": 80,
     "metadata": {},
     "output_type": "execute_result"
    }
   ],
   "source": [
    "lst1"
   ]
  },
  {
   "cell_type": "markdown",
   "id": "69e696f6",
   "metadata": {},
   "source": [
    "# Dictionary"
   ]
  },
  {
   "cell_type": "code",
   "execution_count": 83,
   "id": "c6806c18",
   "metadata": {},
   "outputs": [
    {
     "data": {
      "text/plain": [
       "dict"
      ]
     },
     "execution_count": 83,
     "metadata": {},
     "output_type": "execute_result"
    }
   ],
   "source": [
    "dict1={\"Name\" : \"Yash\",\"Surname\" : \"Vaghani\"}\n",
    "type(dict1)"
   ]
  },
  {
   "cell_type": "code",
   "execution_count": 85,
   "id": "6eb3df2c",
   "metadata": {},
   "outputs": [
    {
     "data": {
      "text/plain": [
       "{'Name': 'Yash', 'Surname': 'Vaghani'}"
      ]
     },
     "execution_count": 85,
     "metadata": {},
     "output_type": "execute_result"
    }
   ],
   "source": [
    "dict1"
   ]
  },
  {
   "cell_type": "code",
   "execution_count": 86,
   "id": "39be1e31",
   "metadata": {},
   "outputs": [
    {
     "data": {
      "text/plain": [
       "'Yash'"
      ]
     },
     "execution_count": 86,
     "metadata": {},
     "output_type": "execute_result"
    }
   ],
   "source": [
    "dict1[\"Name\"]"
   ]
  },
  {
   "cell_type": "code",
   "execution_count": 87,
   "id": "026057b7",
   "metadata": {},
   "outputs": [
    {
     "data": {
      "text/plain": [
       "dict_keys(['Name', 'Surname'])"
      ]
     },
     "execution_count": 87,
     "metadata": {},
     "output_type": "execute_result"
    }
   ],
   "source": [
    "dict1.keys()"
   ]
  },
  {
   "cell_type": "code",
   "execution_count": 88,
   "id": "203554d5",
   "metadata": {},
   "outputs": [
    {
     "data": {
      "text/plain": [
       "dict_values(['Yash', 'Vaghani'])"
      ]
     },
     "execution_count": 88,
     "metadata": {},
     "output_type": "execute_result"
    }
   ],
   "source": [
    "dict1.values()"
   ]
  },
  {
   "cell_type": "markdown",
   "id": "8ab470cc",
   "metadata": {},
   "source": [
    "# Library"
   ]
  },
  {
   "cell_type": "code",
   "execution_count": 89,
   "id": "7592c37b",
   "metadata": {},
   "outputs": [],
   "source": [
    "from math import pi"
   ]
  },
  {
   "cell_type": "code",
   "execution_count": 90,
   "id": "e70e2cd6",
   "metadata": {},
   "outputs": [
    {
     "data": {
      "text/plain": [
       "3.141592653589793"
      ]
     },
     "execution_count": 90,
     "metadata": {},
     "output_type": "execute_result"
    }
   ],
   "source": [
    "pi"
   ]
  },
  {
   "cell_type": "code",
   "execution_count": 102,
   "id": "47cd0820",
   "metadata": {},
   "outputs": [],
   "source": [
    "r=2\n",
    "area = pi*r**2"
   ]
  },
  {
   "cell_type": "code",
   "execution_count": 103,
   "id": "b1135b9d",
   "metadata": {},
   "outputs": [
    {
     "data": {
      "text/plain": [
       "12.566370614359172"
      ]
     },
     "execution_count": 103,
     "metadata": {},
     "output_type": "execute_result"
    }
   ],
   "source": [
    "area"
   ]
  },
  {
   "cell_type": "markdown",
   "id": "083f87a9",
   "metadata": {},
   "source": [
    "# Loops"
   ]
  },
  {
   "cell_type": "code",
   "execution_count": 94,
   "id": "8ce7889f",
   "metadata": {},
   "outputs": [
    {
     "name": "stdout",
     "output_type": "stream",
     "text": [
      "0\n",
      "1\n",
      "2\n",
      "3\n",
      "4\n",
      "5\n"
     ]
    }
   ],
   "source": [
    "for i in range (6):\n",
    "    print(i)"
   ]
  },
  {
   "cell_type": "markdown",
   "id": "8855d4ed",
   "metadata": {},
   "source": [
    "# Conditional Statement"
   ]
  },
  {
   "cell_type": "code",
   "execution_count": 108,
   "id": "40f4dee3",
   "metadata": {},
   "outputs": [
    {
     "name": "stdout",
     "output_type": "stream",
     "text": [
      "-10 is a Negative Number\n"
     ]
    }
   ],
   "source": [
    "num =-10\n",
    "if num>0:\n",
    "    print(num, \"is a Positive Number\")\n",
    "else:\n",
    "    print(num, \"is a Negative Number\")"
   ]
  },
  {
   "cell_type": "code",
   "execution_count": 112,
   "id": "0a09cec5",
   "metadata": {},
   "outputs": [
    {
     "name": "stdout",
     "output_type": "stream",
     "text": [
      "0 is Zero\n"
     ]
    }
   ],
   "source": [
    "num =0\n",
    "if num>=0:\n",
    "    if num==0:\n",
    "        print(num, \"is Zero\")\n",
    "else:\n",
    "    print(num, \"is a Negative Number\")"
   ]
  },
  {
   "cell_type": "code",
   "execution_count": 2,
   "id": "f54df91e",
   "metadata": {},
   "outputs": [
    {
     "name": "stdout",
     "output_type": "stream",
     "text": [
      "1\n",
      "2\n",
      "3\n",
      "4\n",
      "5\n"
     ]
    }
   ],
   "source": [
    "for i in range(1,6):\n",
    "    print(i)\n"
   ]
  },
  {
   "cell_type": "code",
   "execution_count": null,
   "id": "03e0529a",
   "metadata": {},
   "outputs": [],
   "source": []
  }
 ],
 "metadata": {
  "kernelspec": {
   "display_name": "Python 3 (ipykernel)",
   "language": "python",
   "name": "python3"
  },
  "language_info": {
   "codemirror_mode": {
    "name": "ipython",
    "version": 3
   },
   "file_extension": ".py",
   "mimetype": "text/x-python",
   "name": "python",
   "nbconvert_exporter": "python",
   "pygments_lexer": "ipython3",
   "version": "3.9.12"
  }
 },
 "nbformat": 4,
 "nbformat_minor": 5
}
