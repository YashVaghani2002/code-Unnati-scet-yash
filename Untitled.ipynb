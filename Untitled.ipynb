{
 "cells": [
  {
   "cell_type": "code",
   "execution_count": 18,
   "id": "ff68cb4a",
   "metadata": {},
   "outputs": [
    {
     "name": "stdout",
     "output_type": "stream",
     "text": [
      "maths =  [20 45 22 35 78 12 29 84 84 28]\n",
      "chem =  [16 80 57 42 18 40 60 95 54 35]\n",
      "phy =  [98 26 82 21 54 75 24 24 43 13]\n",
      "[43.7, 49.7, 46.0]\n"
     ]
    },
    {
     "data": {
      "text/plain": [
       "([<matplotlib.patches.Wedge at 0x2edf0357340>,\n",
       "  <matplotlib.patches.Wedge at 0x2edf03577c0>,\n",
       "  <matplotlib.patches.Wedge at 0x2edf0357b80>],\n",
       " [Text(0.6082900592991983, 0.9165059758440083, 'maths'),\n",
       "  Text(-1.0985226204174572, 0.056991687386523236, 'chemestry'),\n",
       "  Text(0.5599885117008861, -0.9467908252423165, 'physics')])"
      ]
     },
     "execution_count": 18,
     "metadata": {},
     "output_type": "execute_result"
    },
    {
     "data": {
      "image/png": "[encoded data removed]",
      "text/plain": [
       "<Figure size 432x288 with 4 Axes>"
      ]
     },
     "metadata": {
      "needs_background": "light"
     },
     "output_type": "display_data"
    }
   ],
   "source": [
    "import numpy as np\n",
    "import matplotlib.pyplot as mp\n",
    "\n",
    "students = ['st1','st2','st3','st4','st5','st6','st7','st8','st9','st10']\n",
    "maths = np.random.randint(10,100,size = 10)\n",
    "chem = np.random.randint(10,100,size = 10)\n",
    "phy = np.random.randint(10,100,size = 10)\n",
    "\n",
    "print(\"maths = \", maths)\n",
    "print(\"chem = \",chem)\n",
    "print(\"phy = \",phy)\n",
    "\n",
    "mp.subplot(4,1,1)\n",
    "mp.bar(students,maths)\n",
    "mp.xlabel(\"Students\")\n",
    "mp.ylabel(\"maths marks\")\n",
    "\n",
    "mp.subplot(4,1,2)\n",
    "mp.bar(students,chem)\n",
    "mp.xlabel(\"Students\")\n",
    "mp.ylabel(\"chem marks\")\n",
    "\n",
    "mp.subplot(4,1,3)\n",
    "mp.bar(students,phy)\n",
    "mp.xlabel(\"Students\")\n",
    "mp.ylabel(\"phy marks\")\n",
    "\n",
    "avg = [np.mean(maths),np.mean(chem),np.mean(phy)]\n",
    "sub = ['maths','chemestry','physics']\n",
    "print(avg)\n",
    "\n",
    "mp.subplot(4,1,4)\n",
    "mp.pie(avg,labels=sub)"
   ]
  },
  {
   "cell_type": "code",
   "execution_count": null,
   "id": "26472f91",
   "metadata": {},
   "outputs": [],
   "source": []
  }
 ],
 "metadata": {
  "kernelspec": {
   "display_name": "Python 3 (ipykernel)",
   "language": "python",
   "name": "python3"
  },
  "language_info": {
   "codemirror_mode": {
    "name": "ipython",
    "version": 3
   },
   "file_extension": ".py",
   "mimetype": "text/x-python",
   "name": "python",
   "nbconvert_exporter": "python",
   "pygments_lexer": "ipython3",
   "version": "3.9.12"
  }
 },
 "nbformat": 4,
 "nbformat_minor": 5
}
