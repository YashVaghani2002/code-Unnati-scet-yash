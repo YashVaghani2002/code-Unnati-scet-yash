{
 "cells": [
  {
   "cell_type": "markdown",
   "id": "95e68892",
   "metadata": {},
   "source": [
    "# Numpy Library"
   ]
  },
  {
   "cell_type": "code",
   "execution_count": 20,
   "id": "f792e663",
   "metadata": {},
   "outputs": [],
   "source": [
    "#import numpy Library\n",
    "\n",
    "import numpy as np\n",
    "from numpy import random"
   ]
  },
  {
   "cell_type": "code",
   "execution_count": 15,
   "id": "359bf51d",
   "metadata": {},
   "outputs": [
    {
     "data": {
      "text/plain": [
       "array([[ 1,  5,  4, 45],\n",
       "       [54, 47,  4,  5],\n",
       "       [54, 47,  4,  5]])"
      ]
     },
     "execution_count": 15,
     "metadata": {},
     "output_type": "execute_result"
    }
   ],
   "source": [
    "#create array\n",
    "\n",
    "arr = np.array([[1,5,4,45],[54,47,4,5],[54,47,4,5]])\n",
    "arr"
   ]
  },
  {
   "cell_type": "code",
   "execution_count": 16,
   "id": "cc8f8d66",
   "metadata": {},
   "outputs": [
    {
     "data": {
      "text/plain": [
       "2"
      ]
     },
     "execution_count": 16,
     "metadata": {},
     "output_type": "execute_result"
    }
   ],
   "source": [
    "arr.ndim #dimantion"
   ]
  },
  {
   "cell_type": "code",
   "execution_count": 17,
   "id": "e49b29f0",
   "metadata": {},
   "outputs": [
    {
     "data": {
      "text/plain": [
       "(3, 4)"
      ]
     },
     "execution_count": 17,
     "metadata": {},
     "output_type": "execute_result"
    }
   ],
   "source": [
    "arr.shape #shape of array"
   ]
  },
  {
   "cell_type": "code",
   "execution_count": 18,
   "id": "3bd046a1",
   "metadata": {},
   "outputs": [
    {
     "data": {
      "text/plain": [
       "numpy.ndarray"
      ]
     },
     "execution_count": 18,
     "metadata": {},
     "output_type": "execute_result"
    }
   ],
   "source": [
    "type(arr)"
   ]
  },
  {
   "cell_type": "code",
   "execution_count": 19,
   "id": "d53a2e10",
   "metadata": {},
   "outputs": [
    {
     "data": {
      "text/plain": [
       "<memory at 0x000001BC6F65E2B0>"
      ]
     },
     "execution_count": 19,
     "metadata": {},
     "output_type": "execute_result"
    }
   ],
   "source": [
    "arr.data #memory location"
   ]
  },
  {
   "cell_type": "markdown",
   "id": "7e00dd4e",
   "metadata": {},
   "source": [
    "# Random Number"
   ]
  },
  {
   "cell_type": "code",
   "execution_count": 37,
   "id": "b81f52fa",
   "metadata": {},
   "outputs": [
    {
     "data": {
      "text/plain": [
       "89"
      ]
     },
     "execution_count": 37,
     "metadata": {},
     "output_type": "execute_result"
    }
   ],
   "source": [
    "x = random.randint(100)\n",
    "x"
   ]
  },
  {
   "cell_type": "code",
   "execution_count": 39,
   "id": "f5601df5",
   "metadata": {},
   "outputs": [
    {
     "data": {
      "text/plain": [
       "array([0.22496512, 0.41732455, 0.30195909, 0.43537904, 0.55468844,\n",
       "       0.9970743 , 0.49032681, 0.85447357, 0.78792527, 0.4232713 ])"
      ]
     },
     "execution_count": 39,
     "metadata": {},
     "output_type": "execute_result"
    }
   ],
   "source": [
    "x = random.rand(10)\n",
    "x"
   ]
  },
  {
   "cell_type": "code",
   "execution_count": 42,
   "id": "1389b4c6",
   "metadata": {},
   "outputs": [
    {
     "data": {
      "text/plain": [
       "20.260636325825324"
      ]
     },
     "execution_count": 42,
     "metadata": {},
     "output_type": "execute_result"
    }
   ],
   "source": [
    "x=random.randint(100)+random.rand(1)[0]\n",
    "x"
   ]
  },
  {
   "cell_type": "code",
   "execution_count": 46,
   "id": "befce329",
   "metadata": {},
   "outputs": [
    {
     "data": {
      "text/plain": [
       "array([[0, 5],\n",
       "       [4, 3],\n",
       "       [2, 7],\n",
       "       [3, 5],\n",
       "       [3, 8]])"
      ]
     },
     "execution_count": 46,
     "metadata": {},
     "output_type": "execute_result"
    }
   ],
   "source": [
    "x = random.randint(10,size=(5,2))\n",
    "x"
   ]
  },
  {
   "cell_type": "code",
   "execution_count": 58,
   "id": "361a9188",
   "metadata": {},
   "outputs": [
    {
     "name": "stdout",
     "output_type": "stream",
     "text": [
      "a = [ 3 45 46 33 41 85 32]\n",
      "b = [45 58 49  0  5  8  0]\n",
      "c = [ 48 103  95  33  46  93  32]\n"
     ]
    }
   ],
   "source": [
    "#a = 1D Array , with 7 int\n",
    "#b = 1D Array , with 7 int\n",
    "#perform math opration\n",
    "\n",
    "a = random.randint(100,size=(7))\n",
    "print(\"a =\",a)\n",
    "b = random.randint(100,size=(7))\n",
    "print(\"b =\",b)\n",
    "\n",
    "c = a+b\n",
    "print(\"c =\",c)"
   ]
  },
  {
   "cell_type": "markdown",
   "id": "5d67be17",
   "metadata": {},
   "source": [
    "# Matrix "
   ]
  },
  {
   "cell_type": "code",
   "execution_count": 73,
   "id": "ffe972e1",
   "metadata": {},
   "outputs": [],
   "source": [
    "a = np.matrix('1 2 12 ; 3 4 34 ; 5 6 45')\n",
    "b = np.matrix([[1,5,4,45],[54,47,4,5],[54,47,4,5]])"
   ]
  },
  {
   "cell_type": "code",
   "execution_count": 74,
   "id": "ee62c068",
   "metadata": {},
   "outputs": [
    {
     "name": "stdout",
     "output_type": "stream",
     "text": [
      "[[ 1  5  4 45]\n",
      " [54 47  4  5]\n",
      " [54 47  4  5]]\n"
     ]
    }
   ],
   "source": [
    "print(b)"
   ]
  },
  {
   "cell_type": "code",
   "execution_count": 72,
   "id": "629361cd",
   "metadata": {},
   "outputs": [
    {
     "name": "stdout",
     "output_type": "stream",
     "text": [
      "[[ 1  2 12]\n",
      " [ 3  4 34]\n",
      " [ 5  6 45]]\n"
     ]
    }
   ],
   "source": [
    "print(a)"
   ]
  },
  {
   "cell_type": "markdown",
   "id": "f77ab496",
   "metadata": {},
   "source": [
    "# Central Tendency"
   ]
  },
  {
   "cell_type": "code",
   "execution_count": 76,
   "id": "5cd62486",
   "metadata": {},
   "outputs": [],
   "source": [
    "c = np.array([[1,4,45],[54,4,5],[54,4,5]])"
   ]
  },
  {
   "cell_type": "code",
   "execution_count": 87,
   "id": "8a34bbce",
   "metadata": {},
   "outputs": [
    {
     "name": "stdout",
     "output_type": "stream",
     "text": [
      "1\n",
      "54\n",
      "19.555555555555557\n",
      "5.0\n",
      "22.395987294905762\n",
      "501.5802469135803\n"
     ]
    }
   ],
   "source": [
    "#minimum\n",
    "print(np.amin(c))\n",
    "\n",
    "#maximum\n",
    "print(np.amax(c))\n",
    "\n",
    "#mean\n",
    "print(np.mean(c))\n",
    "\n",
    "#median\n",
    "print(np.median(c))\n",
    "\n",
    "#standerd deviation\n",
    "print(np.std(c))\n",
    "\n",
    "#variance\n",
    "print(np.var(c))"
   ]
  },
  {
   "cell_type": "code",
   "execution_count": null,
   "id": "9baad83e",
   "metadata": {},
   "outputs": [],
   "source": []
  }
 ],
 "metadata": {
  "kernelspec": {
   "display_name": "Python 3 (ipykernel)",
   "language": "python",
   "name": "python3"
  },
  "language_info": {
   "codemirror_mode": {
    "name": "ipython",
    "version": 3
   },
   "file_extension": ".py",
   "mimetype": "text/x-python",
   "name": "python",
   "nbconvert_exporter": "python",
   "pygments_lexer": "ipython3",
   "version": "3.9.12"
  }
 },
 "nbformat": 4,
 "nbformat_minor": 5
}
