{
 "cells": [
  {
   "cell_type": "markdown",
   "id": "17fb4b3f",
   "metadata": {},
   "source": [
    "# Part 1"
   ]
  },
  {
   "cell_type": "markdown",
   "id": "436ce2ef",
   "metadata": {},
   "source": [
    "# 1. Write a Python program to swap first and last element of the list."
   ]
  },
  {
   "cell_type": "code",
   "execution_count": 45,
   "id": "a757c1e2",
   "metadata": {},
   "outputs": [
    {
     "data": {
      "text/plain": [
       "['ele1', 'ele2', 'ele3', 'ele4', 'ele5', 'ele6']"
      ]
     },
     "execution_count": 45,
     "metadata": {},
     "output_type": "execute_result"
    }
   ],
   "source": [
    "lst = ['ele1','ele2','ele3','ele4','ele5','ele6']\n",
    "lst"
   ]
  },
  {
   "cell_type": "code",
   "execution_count": 46,
   "id": "406c0da6",
   "metadata": {},
   "outputs": [
    {
     "name": "stdout",
     "output_type": "stream",
     "text": [
      "['ele6', 'ele2', 'ele3', 'ele4', 'ele5', 'ele1']\n"
     ]
    }
   ],
   "source": [
    "i, j = lst.index('ele1'), lst.index('ele6')\n",
    "\n",
    "lst[i], lst[j] = lst[j], lst[i]\n",
    "\n",
    "print(lst)"
   ]
  },
  {
   "cell_type": "markdown",
   "id": "b9a4d23d",
   "metadata": {},
   "source": [
    "# 2. Write Python program to find the length of list using for loop"
   ]
  },
  {
   "cell_type": "code",
   "execution_count": 48,
   "id": "88a58710",
   "metadata": {},
   "outputs": [
    {
     "data": {
      "text/plain": [
       "6"
      ]
     },
     "execution_count": 48,
     "metadata": {},
     "output_type": "execute_result"
    }
   ],
   "source": [
    "lst = ['ele1','ele2','ele3','ele4','ele5','ele6']\n",
    "lst\n",
    "i = 0\n",
    "\n",
    "for item in lst:\n",
    "    i = i+1\n",
    "    \n",
    "i"
   ]
  },
  {
   "cell_type": "markdown",
   "id": "66e1fe87",
   "metadata": {},
   "source": [
    "# 5. Write a program to convert degree Fahrenheit to Celsius\n"
   ]
  },
  {
   "cell_type": "code",
   "execution_count": 1,
   "id": "84b0f48e",
   "metadata": {},
   "outputs": [
    {
     "name": "stdout",
     "output_type": "stream",
     "text": [
      "Fahrenheit :  150\n",
      "Celsius :  65.55555555555556\n"
     ]
    }
   ],
   "source": [
    "Fahrenheit = 150\n",
    "Celsius = (Fahrenheit-32)/1.8\n",
    "\n",
    "print(\"Fahrenheit : \", Fahrenheit)\n",
    "print(\"Celsius : \", Celsius)\n"
   ]
  },
  {
   "cell_type": "markdown",
   "id": "05605e89",
   "metadata": {},
   "source": [
    "# part 2"
   ]
  },
  {
   "cell_type": "markdown",
   "id": "6f243c0b",
   "metadata": {},
   "source": [
    "# 5. Write a python program to add matrices of dimension 3-by-3 with given matrix\n",
    "a=[[ 9 10 11]\n",
    "[12 13 14]\n",
    "[15 16 17]]"
   ]
  },
  {
   "cell_type": "code",
   "execution_count": 6,
   "id": "be6c380e",
   "metadata": {},
   "outputs": [
    {
     "name": "stdout",
     "output_type": "stream",
     "text": [
      "[[28 40 22 24 26 58 30 72 34]]\n"
     ]
    }
   ],
   "source": [
    "import numpy as np\n",
    "\n",
    "a = np.matrix('9 10 11,12 13 14,15 16 17')\n",
    "b= np.matrix('19 30 11,12 13 44,15 56 17')\n",
    "\n",
    "c =a + b\n",
    "print(c)"
   ]
  },
  {
   "cell_type": "markdown",
   "id": "44cd3cf6",
   "metadata": {},
   "source": [
    "# 1 Write a python program to multiply an Identity matrix of dimension 3-by-3 with given matrix\n",
    "a=[[ 9 10 11]\n",
    "[12 13 14]\n",
    "[15 16 17]]"
   ]
  },
  {
   "cell_type": "code",
   "execution_count": 13,
   "id": "76a361d4",
   "metadata": {},
   "outputs": [
    {
     "name": "stdout",
     "output_type": "stream",
     "text": [
      "[[5 8 1]\n",
      " [6 7 3]\n",
      " [4 5 1]]\n"
     ]
    }
   ],
   "source": [
    "a = np.matrix([[1, 0, 0],\n",
    "               [0, 1, 0],\n",
    "               [0, 0, 1]])\n",
    "\n",
    "b = np.matrix([[5, 8, 1],\n",
    "               [6, 7, 3],\n",
    "               [4, 5, 1]])\n",
    "\n",
    "c=a*b\n",
    "print(c)\n",
    "\n"
   ]
  },
  {
   "cell_type": "markdown",
   "id": "ef01c5f3",
   "metadata": {},
   "source": [
    "# Part 3"
   ]
  },
  {
   "cell_type": "markdown",
   "id": "c0630b69",
   "metadata": {},
   "source": [
    "# 1 Write a python Matplotlib program to plot graph between x & y coordinates for below values:\n",
    "x = [1, 2, 3, 4, 5, 6, 7, 8]\n",
    "y = [2, 3, 1, 3, 1, 4, 2, 3]\n"
   ]
  },
  {
   "cell_type": "code",
   "execution_count": 21,
   "id": "af6c49cb",
   "metadata": {},
   "outputs": [
    {
     "data": {
      "text/plain": [
       "[<matplotlib.lines.Line2D at 0x20ab6fe41f0>]"
      ]
     },
     "execution_count": 21,
     "metadata": {},
     "output_type": "execute_result"
    },
    {
     "data": {
      "image/png": "[encoded data removed]",
      "text/plain": [
       "<Figure size 432x288 with 1 Axes>"
      ]
     },
     "metadata": {
      "needs_background": "light"
     },
     "output_type": "display_data"
    }
   ],
   "source": [
    "import matplotlib.pyplot as mp\n",
    "\n",
    "x =  [1, 2, 3, 4, 5, 6, 7, 8]\n",
    "y = [2, 3, 1, 3, 1, 4, 2, 3]\n",
    "\n",
    "mp.plot(x,y,color='red',linestyle='dotted',marker='o')"
   ]
  },
  {
   "cell_type": "markdown",
   "id": "d4999ae7",
   "metadata": {},
   "source": [
    "# 2. Write a program to connect scatterplot points with line in Matplotlib?\n"
   ]
  },
  {
   "cell_type": "code",
   "execution_count": 24,
   "id": "8a0faf8d",
   "metadata": {},
   "outputs": [
    {
     "data": {
      "text/plain": [
       "[<matplotlib.lines.Line2D at 0x20ab810a280>]"
      ]
     },
     "execution_count": 24,
     "metadata": {},
     "output_type": "execute_result"
    },
    {
     "data": {
      "image/png": "[encoded data removed]",
      "text/plain": [
       "<Figure size 432x288 with 1 Axes>"
      ]
     },
     "metadata": {
      "needs_background": "light"
     },
     "output_type": "display_data"
    }
   ],
   "source": [
    "import matplotlib.pyplot as mp\n",
    "\n",
    "x =  [1, 2, 3, 4, 5, 6, 7, 8]\n",
    "y = [2, 3, 1, 3, 1, 4, 2, 3]\n",
    "\n",
    "mp.scatter(x,y,color='red')\n",
    "mp.plot(x,y,color='red',marker='o')"
   ]
  },
  {
   "cell_type": "code",
   "execution_count": null,
   "id": "80311ac6",
   "metadata": {},
   "outputs": [],
   "source": []
  }
 ],
 "metadata": {
  "kernelspec": {
   "display_name": "Python 3 (ipykernel)",
   "language": "python",
   "name": "python3"
  },
  "language_info": {
   "codemirror_mode": {
    "name": "ipython",
    "version": 3
   },
   "file_extension": ".py",
   "mimetype": "text/x-python",
   "name": "python",
   "nbconvert_exporter": "python",
   "pygments_lexer": "ipython3",
   "version": "3.9.12"
  }
 },
 "nbformat": 4,
 "nbformat_minor": 5
}
